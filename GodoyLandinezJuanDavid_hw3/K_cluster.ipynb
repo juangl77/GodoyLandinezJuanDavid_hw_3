{
 "metadata": {
  "name": "",
  "signature": "sha256:4dd7602eee126c0fcd5d367ac88d8adf5aec962492f480a42f68f424b9df9ad7"
 },
 "nbformat": 3,
 "nbformat_minor": 0,
 "worksheets": [
  {
   "cells": [
    {
     "cell_type": "code",
     "collapsed": false,
     "input": [],
     "language": "python",
     "metadata": {},
     "outputs": [],
     "prompt_number": 76
    },
    {
     "cell_type": "code",
     "collapsed": false,
     "input": [
      "%pylab inline\n",
      "# importando datos\n",
      "data =loadtxt('./data.dat')\n",
      "data = data.T"
     ],
     "language": "python",
     "metadata": {},
     "outputs": [
      {
       "output_type": "stream",
       "stream": "stdout",
       "text": [
        "Populating the interactive namespace from numpy and matplotlib\n"
       ]
      }
     ],
     "prompt_number": 104
    },
    {
     "cell_type": "code",
     "collapsed": false,
     "input": [
      "#definiendo centros \n",
      "centro1 = ones(2)*random.random(1)*(max(data[0]))\n",
      "centro2 = ones(2)*random.random(2)*(max(data[0]))\n",
      "\n",
      "def centro_aleatorio():\n",
      "    global centro1\n",
      "    global centro2\n",
      "    centro1 = ones(2)*random.random(1)*(max(data[0]))\n",
      "    centro2 = ones(2)*random.random(2)*(max(data[0]))\n",
      "    "
     ],
     "language": "python",
     "metadata": {},
     "outputs": [],
     "prompt_number": 105
    },
    {
     "cell_type": "code",
     "collapsed": false,
     "input": [
      "#m\u00e9todo que da el centro m\u00e1s cercano \n",
      "def distancia(a):\n",
      "    global centro1\n",
      "    global centro2\n",
      "    d1 = (a[0]-centro1[0])**2+(a[1]-centro1[1])**2\n",
      "    d2 = (a[0]-centro2[0])**2+(a[1]-centro2[1])**2\n",
      "    if(d2<d1):     \n",
      "        return 2\n",
      "    else:  \n",
      "        return 1\n",
      "\n"
     ],
     "language": "python",
     "metadata": {},
     "outputs": [],
     "prompt_number": 106
    },
    {
     "cell_type": "code",
     "collapsed": false,
     "input": [
      "# clasificando puntos\n",
      "V1 = []\n",
      "V2 = []\n",
      "def reiniciar():\n",
      "    global V1\n",
      "    global V2\n",
      "    V1 = []\n",
      "    V2 = []\n",
      "\n",
      "    \n",
      "def clasificar():\n",
      "    global V1\n",
      "    global V2\n",
      "    V1x = []\n",
      "    V1y = []\n",
      "    V2x = []\n",
      "    V2y = []  \n",
      "    clas = np.zeros(len(data[0]))\n",
      "    for i in range(len(data[0])):\n",
      "        coord = [data[0][i],data[1][i]]\n",
      "        clas[i] = distancia(coord)\n",
      "    for i in range(len(data[0])):\n",
      "        if clas[i] == 1:\n",
      "            V1x.append(data[0][i])\n",
      "            V1y.append(data[1][i])\n",
      "        else:\n",
      "            V2x.append(data[0][i])\n",
      "            V2y.append(data[1][i])\n",
      "    if(len(V1x)>0):\n",
      "        V1 = [V1x,V1y]\n",
      "    else:\n",
      "        centro_aleatorio()\n",
      "        reiniciar()\n",
      "        clasificar()\n",
      "    if(len(V2x)>0):\n",
      "        V2 = [V2x,V2y]\n",
      "    else:\n",
      "        centro_aleatorio()\n",
      "        reiniciar()\n",
      "        clasificar()\n",
      "    \n",
      "\n",
      "    "
     ],
     "language": "python",
     "metadata": {},
     "outputs": [],
     "prompt_number": 107
    },
    {
     "cell_type": "code",
     "collapsed": false,
     "input": [
      "#nuevo centro\n",
      "def nuevo_centro():\n",
      "    global V1\n",
      "    global V2\n",
      "    global centro1\n",
      "    global centro2\n",
      "    promxc1 = 0.0\n",
      "    promyc1 = 0.0\n",
      "    promxc2 = 0.0\n",
      "    promyc2 = 0.0\n",
      "    if len(V1) > 0:\n",
      "        promxc1 = mean(V1[0])\n",
      "        promyc1 = mean(V1[1])\n",
      "        centro1 = [promxc1,promyc1]\n",
      "    else:\n",
      "        centro_aleatorio()\n",
      "        reiniciar()\n",
      "        nuevo_centro()\n",
      "    if len(V2) > 0:\n",
      "        promxc2 = mean(V2[0])\n",
      "        promyc2 = mean(V2[1])\n",
      "        centro2 = [promxc2,promyc2]\n",
      "    else:\n",
      "        centro_aleatorio()\n",
      "        reiniciar()\n",
      "        nuevo_centro()\n",
      "\n",
      "\n",
      "    \n",
      "    \n"
     ],
     "language": "python",
     "metadata": {},
     "outputs": [],
     "prompt_number": 108
    },
    {
     "cell_type": "code",
     "collapsed": false,
     "input": [
      "# K_cluster\n",
      "V1temp = V1*2\n",
      "V2temp = V2*2\n",
      "def comparar():\n",
      "    global V1 \n",
      "    global V2\n",
      "    global V1temp\n",
      "    global V2temp\n",
      "    comp = [(V1temp == V1),(V2temp == V2)]\n",
      "    return [(V1temp == V1),(V2temp == V2)]\n",
      "def k_cluster():\n",
      "    global V1temp\n",
      "    global V2temp\n",
      "    global centro1\n",
      "    global centro2\n",
      "    global V1\n",
      "    global V2\n",
      "    a = centro1*2\n",
      "    b = centro2*2\n",
      "    d = True\n",
      "    while(d):\n",
      "        reiniciar()\n",
      "        clasificar()\n",
      "        nuevo_centro()\n",
      "        valor = comparar()\n",
      "        c1 = valor[0]\n",
      "        c2 = valor[1]\n",
      "        d = (not c1) & (not c2)\n",
      "        V1temp = V1\n",
      "        V2temp = V2\n",
      "\n",
      "        #gr\u00e1fica\n",
      "        scatter(V1[0],V1[1], color = 'b')\n",
      "        scatter(V2[0],V2[1], color = 'r')\n",
      "        scatter(centro1[0],centro1[1],color= 'black')\n",
      "        scatter(centro2[0],centro2[1],color = \"orange\")\n",
      "        show()\n",
      "\n",
      "k_cluster()\n",
      "        \n",
      "    \n",
      "        \n",
      "        \n",
      "    \n",
      "        \n",
      "    \n",
      "\n"
     ],
     "language": "python",
     "metadata": {},
     "outputs": [
      {
       "metadata": {},
       "output_type": "display_data",
       "png": "[encoded data removed]",
       "text": [
        "<matplotlib.figure.Figure at 0x2c0b150>"
       ]
      },
      {
       "metadata": {},
       "output_type": "display_data",
       "png": "[encoded data removed]",
       "text": [
        "<matplotlib.figure.Figure at 0x2b837d0>"
       ]
      },
      {
       "metadata": {},
       "output_type": "display_data",
       "png": "[encoded data removed]",
       "text": [
        "<matplotlib.figure.Figure at 0x16f48890>"
       ]
      }
     ],
     "prompt_number": 109
    },
    {
     "cell_type": "code",
     "collapsed": false,
     "input": [],
     "language": "python",
     "metadata": {},
     "outputs": [],
     "prompt_number": 109
    },
    {
     "cell_type": "code",
     "collapsed": false,
     "input": [],
     "language": "python",
     "metadata": {},
     "outputs": []
    },
    {
     "cell_type": "code",
     "collapsed": false,
     "input": [],
     "language": "python",
     "metadata": {},
     "outputs": []
    }
   ],
   "metadata": {}
  }
 ]
}