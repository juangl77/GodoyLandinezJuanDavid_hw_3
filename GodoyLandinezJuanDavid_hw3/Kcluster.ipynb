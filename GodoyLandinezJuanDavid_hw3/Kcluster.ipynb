{
 "metadata": {
  "name": "",
  "signature": "sha256:c64ff0cec9a163ffc46e4c6b7a24760b101665a0b0e264d4951094d40c1d2fff"
 },
 "nbformat": 3,
 "nbformat_minor": 0,
 "worksheets": [
  {
   "cells": [
    {
     "cell_type": "code",
     "collapsed": false,
     "input": [],
     "language": "python",
     "metadata": {},
     "outputs": []
    },
    {
     "cell_type": "code",
     "collapsed": false,
     "input": [
      "%pylab inline\n",
      "# importando datos\n",
      "data =loadtxt('./data.dat')\n",
      "data = data.T"
     ],
     "language": "python",
     "metadata": {},
     "outputs": [
      {
       "output_type": "stream",
       "stream": "stdout",
       "text": [
        "Populating the interactive namespace from numpy and matplotlib\n"
       ]
      }
     ],
     "prompt_number": 124
    },
    {
     "cell_type": "code",
     "collapsed": false,
     "input": [
      "#definiendo centros \n",
      "centro1 = ones(2)*random.random(1)*(max(data[0]))\n",
      "centro2 = ones(2)*random.random(2)*(max(data[0]))"
     ],
     "language": "python",
     "metadata": {},
     "outputs": [],
     "prompt_number": 125
    },
    {
     "cell_type": "code",
     "collapsed": false,
     "input": [
      "#m\u00e9todo que da el centro m\u00e1s cercano \n",
      "def distancia(a):\n",
      "    global centro1\n",
      "    global centro2\n",
      "    d1 = (a[0]-centro1[0])**2+(a[1]-centro1[1])**2\n",
      "    d2 = (a[0]-centro2[0])**2+(a[1]-centro2[1])**2\n",
      "    if(d2<d1):\n",
      "        return 2\n",
      "    else:\n",
      "        return 1\n",
      "\n"
     ],
     "language": "python",
     "metadata": {},
     "outputs": [],
     "prompt_number": 126
    },
    {
     "cell_type": "code",
     "collapsed": false,
     "input": [
      "# clasificando puntos \n",
      "clas = np.zeros(len(data[0]))\n",
      "for i in range(len(data[0])):\n",
      "    coord = [data[0][i],data[1][i]]\n",
      "    clas[i] = distancia(coord)\n",
      "\n",
      "    "
     ],
     "language": "python",
     "metadata": {},
     "outputs": [],
     "prompt_number": 127
    },
    {
     "cell_type": "code",
     "collapsed": false,
     "input": [
      "#nuevo centro\n",
      "promxc1 = 0.0\n",
      "promyc1 = 0.0\n",
      "promxc2 = 0.0\n",
      "promyc2 = 0.0\n",
      "V1 = []\n",
      "V2 = []\n",
      "for i in range(len(data[0])):\n",
      "    if clas[i] == 1:\n",
      "        V1.append([data[0][i],data[1][i]])\n",
      "    else:\n",
      "        V2.append([data[0][i],data[1][i]])\n",
      "    \n",
      "V1 = matrix(V1)\n",
      "V2 = matrix(V2)\n",
      "V1 = V1.T\n",
      "V2 = V2.T\n",
      "\n",
      "if len(V1) > 0:\n",
      "    promxc1 = mean(V1[0])\n",
      "    promyc1 = mean(V1[1])\n",
      "    centro1 = [promxc1,promyc1]\n",
      "if len(V2) > 0:\n",
      "    promxc2 = mean(V2[0])\n",
      "    promyc2 = mean(V2[1])\n",
      "    centro2 = [promxc2,promyc2]\n",
      "\n",
      "\n",
      "    \n",
      "    \n"
     ],
     "language": "python",
     "metadata": {},
     "outputs": [],
     "prompt_number": 128
    },
    {
     "cell_type": "code",
     "collapsed": false,
     "input": [
      "#reclasificar\n",
      "clas = np.zeros(len(data[0]))\n",
      "for i in range(len(data[0])):\n",
      "    coord = [data[0][i],data[1][i]]\n",
      "    clas[i] = distancia(coord)\n",
      "    \n",
      "promxc1 = 0.0\n",
      "promyc1 = 0.0\n",
      "promxc2 = 0.0\n",
      "promyc2 = 0.0\n",
      "V1 = []\n",
      "V2 = []\n",
      "for i in range(len(data[0])):\n",
      "    if clas[i] == 1:\n",
      "        V1.append([data[0][i],data[1][i]])\n",
      "    else:\n",
      "        V2.append([data[0][i],data[1][i]])\n",
      "    \n",
      "V1 = matrix(V1)\n",
      "V2 = matrix(V2)\n",
      "V1 = V1.T\n",
      "V2 = V2.T\n",
      "\n"
     ],
     "language": "python",
     "metadata": {},
     "outputs": [],
     "prompt_number": 129
    },
    {
     "cell_type": "code",
     "collapsed": false,
     "input": [
      "if(len(V1)>0):\n",
      "    scatter(V1[0],V1[0], c = 'r')\n",
      "if(len(V2)>0):\n",
      "    scatter(V2[0],V2[1], c = 'b')\n",
      "scatter(centro1[0],centro1[1], c = 'y')\n",
      "scatter(centro2[0],centro2[1], c = 'y')\n"
     ],
     "language": "python",
     "metadata": {},
     "outputs": [
      {
       "metadata": {},
       "output_type": "pyout",
       "prompt_number": 130,
       "text": [
        "<matplotlib.collections.PathCollection at 0x390c6d0>"
       ]
      },
      {
       "metadata": {},
       "output_type": "display_data",
       "png": "[encoded data removed]",
       "text": [
        "<matplotlib.figure.Figure at 0x3047f50>"
       ]
      }
     ],
     "prompt_number": 130
    },
    {
     "cell_type": "code",
     "collapsed": false,
     "input": [],
     "language": "python",
     "metadata": {},
     "outputs": [],
     "prompt_number": 130
    },
    {
     "cell_type": "code",
     "collapsed": false,
     "input": [],
     "language": "python",
     "metadata": {},
     "outputs": []
    }
   ],
   "metadata": {}
  }
 ]
}